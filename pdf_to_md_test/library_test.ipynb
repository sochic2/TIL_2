{
 "cells": [
  {
   "cell_type": "code",
   "execution_count": 1,
   "id": "78883916-d66d-4e04-9075-b53ef47fa62e",
   "metadata": {},
   "outputs": [],
   "source": [
    "from pdftomarkdown import make_markdown"
   ]
  },
  {
   "cell_type": "code",
   "execution_count": 3,
   "id": "cc649783-aee4-4dd8-9144-7149075c32eb",
   "metadata": {},
   "outputs": [
    {
     "name": "stderr",
     "output_type": "stream",
     "text": [
      "MainProcess - 2024-11-14 14:28:59,187 - INFO - PDF file open : 04.총론-2023-06.pdf\n",
      "MainProcess - 2024-11-14 14:29:08,258 - INFO - PDF file close : 04.총론-2023-06.pdf / Total running time : 9.071209192276001\n"
     ]
    }
   ],
   "source": [
    "make_markdown('04.총론-2023-06.pdf', './test/')"
   ]
  },
  {
   "cell_type": "code",
   "execution_count": null,
   "id": "5737b25f-893d-4036-b35c-fc95d4e18ea9",
   "metadata": {},
   "outputs": [],
   "source": []
  }
 ],
 "metadata": {
  "kernelspec": {
   "display_name": "practice_env",
   "language": "python",
   "name": "practice_env"
  },
  "language_info": {
   "codemirror_mode": {
    "name": "ipython",
    "version": 3
   },
   "file_extension": ".py",
   "mimetype": "text/x-python",
   "name": "python",
   "nbconvert_exporter": "python",
   "pygments_lexer": "ipython3",
   "version": "3.12.7"
  }
 },
 "nbformat": 4,
 "nbformat_minor": 5
}
