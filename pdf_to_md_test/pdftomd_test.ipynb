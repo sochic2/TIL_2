{
 "cells": [
  {
   "cell_type": "code",
   "execution_count": 1,
   "id": "15b1e4be-b22d-4618-9f83-273cdc85a038",
   "metadata": {},
   "outputs": [],
   "source": [
    "import sys\n",
    "import os"
   ]
  },
  {
   "cell_type": "code",
   "execution_count": 2,
   "id": "bd52f653-284d-4a38-b39b-69822a6b830d",
   "metadata": {},
   "outputs": [],
   "source": [
    "sys.path.append(os.path.abspath('..'))"
   ]
  },
  {
   "cell_type": "code",
   "execution_count": 5,
   "id": "5de3659b-cf08-4f5c-a830-2cc00c0b3867",
   "metadata": {},
   "outputs": [
    {
     "data": {
      "text/plain": [
       "['C:\\\\Users\\\\admin1\\\\anaconda3\\\\envs\\\\practice_env\\\\python312.zip',\n",
       " 'C:\\\\Users\\\\admin1\\\\anaconda3\\\\envs\\\\practice_env\\\\DLLs',\n",
       " 'C:\\\\Users\\\\admin1\\\\anaconda3\\\\envs\\\\practice_env\\\\Lib',\n",
       " 'C:\\\\Users\\\\admin1\\\\anaconda3\\\\envs\\\\practice_env',\n",
       " '',\n",
       " 'C:\\\\Users\\\\admin1\\\\anaconda3\\\\envs\\\\practice_env\\\\Lib\\\\site-packages',\n",
       " 'C:\\\\Users\\\\admin1\\\\anaconda3\\\\envs\\\\practice_env\\\\Lib\\\\site-packages\\\\win32',\n",
       " 'C:\\\\Users\\\\admin1\\\\anaconda3\\\\envs\\\\practice_env\\\\Lib\\\\site-packages\\\\win32\\\\lib',\n",
       " 'C:\\\\Users\\\\admin1\\\\anaconda3\\\\envs\\\\practice_env\\\\Lib\\\\site-packages\\\\Pythonwin',\n",
       " 'D:\\\\PythonSrc']"
      ]
     },
     "execution_count": 5,
     "metadata": {},
     "output_type": "execute_result"
    }
   ],
   "source": [
    "sys.path"
   ]
  },
  {
   "cell_type": "code",
   "execution_count": 6,
   "id": "50ad768b-597a-47e1-916c-204bec3478fc",
   "metadata": {},
   "outputs": [],
   "source": [
    "from pdftomd import save_markdown, get_markdown"
   ]
  },
  {
   "cell_type": "code",
   "execution_count": 7,
   "id": "f5fe0be8-f1b9-4adc-9227-ad65cf365cd2",
   "metadata": {},
   "outputs": [],
   "source": [
    "file_nm = '01-총론(1-1,1-3시행지침)_180410.pdf'"
   ]
  },
  {
   "cell_type": "code",
   "execution_count": 8,
   "id": "3d870309-cc8f-43a6-8748-a1259bede811",
   "metadata": {},
   "outputs": [],
   "source": [
    "save_markdown('pdf_dir', 'mkdn')"
   ]
  },
  {
   "cell_type": "code",
   "execution_count": 20,
   "id": "56d1ca50-1b49-46cc-831a-81f76d508a8a",
   "metadata": {},
   "outputs": [],
   "source": [
    "result = get_markdown(file_nm)"
   ]
  },
  {
   "cell_type": "code",
   "execution_count": null,
   "id": "b5637ebd-a865-4a7c-99e9-abe00b56cdf7",
   "metadata": {},
   "outputs": [],
   "source": [
    "print(result)"
   ]
  },
  {
   "cell_type": "code",
   "execution_count": 1,
   "id": "afef5ebf-f546-40f5-a6de-0d2d1805e821",
   "metadata": {},
   "outputs": [],
   "source": [
    "import pandas as pd"
   ]
  },
  {
   "cell_type": "code",
   "execution_count": null,
   "id": "2dd5e125-1b9e-41f8-8809-3380898195b9",
   "metadata": {},
   "outputs": [],
   "source": [
    "pd."
   ]
  }
 ],
 "metadata": {
  "kernelspec": {
   "display_name": "practice_env",
   "language": "python",
   "name": "practice_env"
  },
  "language_info": {
   "codemirror_mode": {
    "name": "ipython",
    "version": 3
   },
   "file_extension": ".py",
   "mimetype": "text/x-python",
   "name": "python",
   "nbconvert_exporter": "python",
   "pygments_lexer": "ipython3",
   "version": "3.12.7"
  }
 },
 "nbformat": 4,
 "nbformat_minor": 5
}
