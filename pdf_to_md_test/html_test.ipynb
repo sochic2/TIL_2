{
 "cells": [
  {
   "cell_type": "code",
   "execution_count": 1,
   "id": "aeb02803-a7f6-4705-9b6c-25e972c1eeaf",
   "metadata": {},
   "outputs": [
    {
     "ename": "AttributeError",
     "evalue": "'NoneType' object has no attribute 'find_all'",
     "output_type": "error",
     "traceback": [
      "\u001b[1;31m---------------------------------------------------------------------------\u001b[0m",
      "\u001b[1;31mAttributeError\u001b[0m                            Traceback (most recent call last)",
      "Cell \u001b[1;32mIn[1], line 13\u001b[0m\n\u001b[0;32m     10\u001b[0m rows \u001b[38;5;241m=\u001b[39m []\n\u001b[0;32m     12\u001b[0m \u001b[38;5;66;03m# 표 데이터 파싱\u001b[39;00m\n\u001b[1;32m---> 13\u001b[0m \u001b[38;5;28;01mfor\u001b[39;00m row \u001b[38;5;129;01min\u001b[39;00m \u001b[43mtable\u001b[49m\u001b[38;5;241;43m.\u001b[39;49m\u001b[43mfind_all\u001b[49m(\u001b[38;5;124m\"\u001b[39m\u001b[38;5;124mtr\u001b[39m\u001b[38;5;124m\"\u001b[39m):\n\u001b[0;32m     14\u001b[0m     cells \u001b[38;5;241m=\u001b[39m row\u001b[38;5;241m.\u001b[39mfind_all([\u001b[38;5;124m\"\u001b[39m\u001b[38;5;124mtd\u001b[39m\u001b[38;5;124m\"\u001b[39m, \u001b[38;5;124m\"\u001b[39m\u001b[38;5;124mth\u001b[39m\u001b[38;5;124m\"\u001b[39m])\n\u001b[0;32m     15\u001b[0m     rows\u001b[38;5;241m.\u001b[39mappend([cell\u001b[38;5;241m.\u001b[39mget_text(strip\u001b[38;5;241m=\u001b[39m\u001b[38;5;28;01mTrue\u001b[39;00m) \u001b[38;5;28;01mfor\u001b[39;00m cell \u001b[38;5;129;01min\u001b[39;00m cells])\n",
      "\u001b[1;31mAttributeError\u001b[0m: 'NoneType' object has no attribute 'find_all'"
     ]
    }
   ],
   "source": [
    "from bs4 import BeautifulSoup\n",
    "import pandas as pd\n",
    "\n",
    "# HTML 파일 로드\n",
    "with open(\"test.html\", \"r\", encoding=\"utf-8\") as file:\n",
    "    soup = BeautifulSoup(file, \"html.parser\")\n",
    "\n",
    "# HTML에서 첫 번째 표 추출\n",
    "table = soup.find(\"table\")\n",
    "rows = []\n",
    "\n",
    "# 표 데이터 파싱\n",
    "for row in table.find_all(\"tr\"):\n",
    "    cells = row.find_all([\"td\", \"th\"])\n",
    "    rows.append([cell.get_text(strip=True) for cell in cells])\n",
    "\n",
    "# DataFrame으로 변환\n",
    "df = pd.DataFrame(rows[1:], columns=rows[0])  # 첫 번째 행을 헤더로 사용\n",
    "print(df)"
   ]
  },
  {
   "cell_type": "code",
   "execution_count": 3,
   "id": "2ad9e596-0ca4-470d-b5a7-b585ce1f0717",
   "metadata": {},
   "outputs": [
    {
     "name": "stdout",
     "output_type": "stream",
     "text": [
      "Empty DataFrame\n",
      "Columns: []\n",
      "Index: []\n"
     ]
    }
   ],
   "source": [
    "from bs4 import BeautifulSoup\n",
    "\n",
    "# 변환된 HTML 파일을 BeautifulSoup으로 로드\n",
    "with open(\"test.html\", \"r\", encoding=\"utf-8\") as file:\n",
    "    soup = BeautifulSoup(file, \"html.parser\")\n",
    "\n",
    "# 셀 데이터를 저장할 리스트\n",
    "cells = []\n",
    "\n",
    "# 모든 텍스트 블록을 순회하면서 위치와 텍스트를 저장\n",
    "for div in soup.find_all(\"div\", class_=\"t\"):\n",
    "    style = div.get(\"style\", \"\")\n",
    "    # 'top'과 'left' 값이 있는지 확인한 후 추출\n",
    "    if \"top:\" in style and \"left:\" in style:\n",
    "        top = int(style.split(\"top:\")[1].split(\"px\")[0].strip())\n",
    "        left = int(style.split(\"left:\")[1].split(\"px\")[0].strip())\n",
    "        text = div.get_text(strip=True)\n",
    "        cells.append({\"top\": top, \"left\": left, \"text\": text})\n",
    "\n",
    "\n",
    "import pandas as pd\n",
    "\n",
    "# 'top' 값을 기준으로 정렬하여 행 구분\n",
    "cells = sorted(cells, key=lambda x: (x['top'], x['left']))\n",
    "\n",
    "# 임시 구조로 각 행을 담을 리스트\n",
    "rows = []\n",
    "current_row = []\n",
    "previous_top = None\n",
    "\n",
    "for cell in cells:\n",
    "    if previous_top is None or abs(cell['top'] - previous_top) > 10:\n",
    "        # 새로운 행을 시작\n",
    "        if current_row:\n",
    "            rows.append(current_row)\n",
    "        current_row = []\n",
    "        previous_top = cell['top']\n",
    "    current_row.append(cell['text'])\n",
    "\n",
    "# 마지막 행 추가\n",
    "if current_row:\n",
    "    rows.append(current_row)\n",
    "\n",
    "# DataFrame으로 변환\n",
    "df = pd.DataFrame(rows)\n",
    "print(df)"
   ]
  },
  {
   "cell_type": "code",
   "execution_count": null,
   "id": "22293111-6950-4871-ad83-7851944cc97d",
   "metadata": {},
   "outputs": [],
   "source": []
  }
 ],
 "metadata": {
  "kernelspec": {
   "display_name": "practice_env",
   "language": "python",
   "name": "practice_env"
  },
  "language_info": {
   "codemirror_mode": {
    "name": "ipython",
    "version": 3
   },
   "file_extension": ".py",
   "mimetype": "text/x-python",
   "name": "python",
   "nbconvert_exporter": "python",
   "pygments_lexer": "ipython3",
   "version": "3.12.7"
  }
 },
 "nbformat": 4,
 "nbformat_minor": 5
}
