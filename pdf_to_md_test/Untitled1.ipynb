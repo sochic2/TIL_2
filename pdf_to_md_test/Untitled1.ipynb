{
 "cells": [
  {
   "cell_type": "code",
   "execution_count": 225,
   "id": "d4478517-8810-4303-84c3-29610863a28c",
   "metadata": {},
   "outputs": [],
   "source": [
    "import pdfplumber\n",
    "from collections import Counter, defaultdict\n",
    "\n",
    "pdf_path = \"제4차_스마트도시_종합계획20242028.pdf\"\n",
    "pdf = pdfplumber.open(pdf_path)"
   ]
  },
  {
   "cell_type": "code",
   "execution_count": 226,
   "id": "79e10abf-d691-4a2b-b060-a7d5c94c54f2",
   "metadata": {},
   "outputs": [],
   "source": [
    "pages = pdf.pages"
   ]
  },
  {
   "cell_type": "code",
   "execution_count": 227,
   "id": "81240b48-c524-4039-8b59-b3754130edaf",
   "metadata": {},
   "outputs": [],
   "source": [
    "page = pages[0]"
   ]
  },
  {
   "cell_type": "code",
   "execution_count": 228,
   "id": "fa6c7998-e6cf-4a98-a78e-467662e719f7",
   "metadata": {},
   "outputs": [],
   "source": [
    "lines = page.extract_text_lines()"
   ]
  },
  {
   "cell_type": "code",
   "execution_count": 231,
   "id": "7885847d-43c6-4889-898c-13ec3592c451",
   "metadata": {},
   "outputs": [
    {
     "name": "stdout",
     "output_type": "stream",
     "text": [
      "제4차 스마트도시 종합계획(안)\n",
      "(2024~2028)\n",
      "222000222444... 555...\n"
     ]
    }
   ],
   "source": [
    "for line in lines:\n",
    "    print(line['text'])"
   ]
  },
  {
   "cell_type": "code",
   "execution_count": 224,
   "id": "d73f8252-451f-455f-8e34-b59be3ed2873",
   "metadata": {},
   "outputs": [
    {
     "data": {
      "text/plain": [
       "1"
      ]
     },
     "execution_count": 224,
     "metadata": {},
     "output_type": "execute_result"
    }
   ],
   "source": [
    "a = [[1,2,3], [], [4,5]]\n",
    "a.count([])"
   ]
  },
  {
   "cell_type": "code",
   "execution_count": 215,
   "id": "b85dab93-b50b-4b74-aad8-77743295a0db",
   "metadata": {},
   "outputs": [
    {
     "data": {
      "text/plain": [
       "841.92004"
      ]
     },
     "execution_count": 215,
     "metadata": {},
     "output_type": "execute_result"
    }
   ],
   "source": [
    "page.height"
   ]
  },
  {
   "cell_type": "code",
   "execution_count": 216,
   "id": "9b5a6bb0-e070-40f7-89dd-08e0d2c998ec",
   "metadata": {},
   "outputs": [
    {
     "data": {
      "text/plain": [
       "721.92004"
      ]
     },
     "execution_count": 216,
     "metadata": {},
     "output_type": "execute_result"
    }
   ],
   "source": [
    "within_page = page.within_bbox([0, 60, page.width-10, page.height - 60])\n",
    "within_page.height"
   ]
  },
  {
   "cell_type": "code",
   "execution_count": 196,
   "id": "205aec3a-aaae-49d7-bc09-94a48bbe9a5d",
   "metadata": {},
   "outputs": [
    {
     "data": {
      "text/plain": [
       "[]"
      ]
     },
     "execution_count": 196,
     "metadata": {},
     "output_type": "execute_result"
    }
   ],
   "source": [
    "within_page.find_tables()"
   ]
  },
  {
   "cell_type": "code",
   "execution_count": 190,
   "id": "7f2a2b38-1fa7-4756-83c2-1ea63acb4c60",
   "metadata": {},
   "outputs": [
    {
     "name": "stdout",
     "output_type": "stream",
     "text": [
      "595.32001 841.92004\n"
     ]
    },
    {
     "ename": "ValueError",
     "evalue": "(236, 723.768, 302, 712) has a negative width or height.",
     "output_type": "error",
     "traceback": [
      "\u001b[1;31m---------------------------------------------------------------------------\u001b[0m",
      "\u001b[1;31mValueError\u001b[0m                                Traceback (most recent call last)",
      "Cell \u001b[1;32mIn[190], line 3\u001b[0m\n\u001b[0;32m      1\u001b[0m \u001b[38;5;28;01mfor\u001b[39;00m page \u001b[38;5;129;01min\u001b[39;00m pages:\n\u001b[0;32m      2\u001b[0m     \u001b[38;5;28mprint\u001b[39m(page\u001b[38;5;241m.\u001b[39mwidth, page\u001b[38;5;241m.\u001b[39mheight)\n\u001b[1;32m----> 3\u001b[0m     \u001b[43mpage\u001b[49m\u001b[38;5;241;43m.\u001b[39;49m\u001b[43mwithin_bbox\u001b[49m\u001b[43m(\u001b[49m\u001b[43m(\u001b[49m\u001b[38;5;241;43m236\u001b[39;49m\u001b[43m,\u001b[49m\u001b[43m \u001b[49m\u001b[38;5;241;43m723.768\u001b[39;49m\u001b[43m,\u001b[49m\u001b[43m \u001b[49m\u001b[38;5;241;43m302\u001b[39;49m\u001b[43m,\u001b[49m\u001b[43m \u001b[49m\u001b[38;5;241;43m712\u001b[39;49m\u001b[43m)\u001b[49m\u001b[43m)\u001b[49m\n",
      "File \u001b[1;32m~\\anaconda3\\envs\\practice_env\\Lib\\site-packages\\pdfplumber\\page.py:564\u001b[0m, in \u001b[0;36mPage.within_bbox\u001b[1;34m(self, bbox, relative, strict)\u001b[0m\n\u001b[0;32m    558\u001b[0m \u001b[38;5;28;01mdef\u001b[39;00m \u001b[38;5;21mwithin_bbox\u001b[39m(\n\u001b[0;32m    559\u001b[0m     \u001b[38;5;28mself\u001b[39m, bbox: T_bbox, relative: \u001b[38;5;28mbool\u001b[39m \u001b[38;5;241m=\u001b[39m \u001b[38;5;28;01mFalse\u001b[39;00m, strict: \u001b[38;5;28mbool\u001b[39m \u001b[38;5;241m=\u001b[39m \u001b[38;5;28;01mTrue\u001b[39;00m\n\u001b[0;32m    560\u001b[0m ) \u001b[38;5;241m-\u001b[39m\u001b[38;5;241m>\u001b[39m \u001b[38;5;124m\"\u001b[39m\u001b[38;5;124mCroppedPage\u001b[39m\u001b[38;5;124m\"\u001b[39m:\n\u001b[0;32m    561\u001b[0m \u001b[38;5;250m    \u001b[39m\u001b[38;5;124;03m\"\"\"\u001b[39;00m\n\u001b[0;32m    562\u001b[0m \u001b[38;5;124;03m    Same as .crop, except only includes objects fully within the bbox\u001b[39;00m\n\u001b[0;32m    563\u001b[0m \u001b[38;5;124;03m    \"\"\"\u001b[39;00m\n\u001b[1;32m--> 564\u001b[0m     \u001b[38;5;28;01mreturn\u001b[39;00m \u001b[43mCroppedPage\u001b[49m\u001b[43m(\u001b[49m\n\u001b[0;32m    565\u001b[0m \u001b[43m        \u001b[49m\u001b[38;5;28;43mself\u001b[39;49m\u001b[43m,\u001b[49m\u001b[43m \u001b[49m\u001b[43mbbox\u001b[49m\u001b[43m,\u001b[49m\u001b[43m \u001b[49m\u001b[43mrelative\u001b[49m\u001b[38;5;241;43m=\u001b[39;49m\u001b[43mrelative\u001b[49m\u001b[43m,\u001b[49m\u001b[43m \u001b[49m\u001b[43mstrict\u001b[49m\u001b[38;5;241;43m=\u001b[39;49m\u001b[43mstrict\u001b[49m\u001b[43m,\u001b[49m\u001b[43m \u001b[49m\u001b[43mcrop_fn\u001b[49m\u001b[38;5;241;43m=\u001b[39;49m\u001b[43mutils\u001b[49m\u001b[38;5;241;43m.\u001b[39;49m\u001b[43mwithin_bbox\u001b[49m\n\u001b[0;32m    566\u001b[0m \u001b[43m    \u001b[49m\u001b[43m)\u001b[49m\n",
      "File \u001b[1;32m~\\anaconda3\\envs\\practice_env\\Lib\\site-packages\\pdfplumber\\page.py:700\u001b[0m, in \u001b[0;36mCroppedPage.__init__\u001b[1;34m(self, parent_page, crop_bbox, crop_fn, relative, strict)\u001b[0m\n\u001b[0;32m    697\u001b[0m     crop_bbox \u001b[38;5;241m=\u001b[39m (x0 \u001b[38;5;241m+\u001b[39m o_x0, top \u001b[38;5;241m+\u001b[39m o_top, x1 \u001b[38;5;241m+\u001b[39m o_x0, bottom \u001b[38;5;241m+\u001b[39m o_top)\n\u001b[0;32m    699\u001b[0m \u001b[38;5;28;01mif\u001b[39;00m strict:\n\u001b[1;32m--> 700\u001b[0m     \u001b[43mtest_proposed_bbox\u001b[49m\u001b[43m(\u001b[49m\u001b[43mcrop_bbox\u001b[49m\u001b[43m,\u001b[49m\u001b[43m \u001b[49m\u001b[43mparent_page\u001b[49m\u001b[38;5;241;43m.\u001b[39;49m\u001b[43mbbox\u001b[49m\u001b[43m)\u001b[49m\n\u001b[0;32m    702\u001b[0m \u001b[38;5;28;01mdef\u001b[39;00m \u001b[38;5;21m_crop_fn\u001b[39m(objs: T_obj_list) \u001b[38;5;241m-\u001b[39m\u001b[38;5;241m>\u001b[39m T_obj_list:\n\u001b[0;32m    703\u001b[0m     \u001b[38;5;28;01mreturn\u001b[39;00m crop_fn(objs, crop_bbox)\n",
      "File \u001b[1;32m~\\anaconda3\\envs\\practice_env\\Lib\\site-packages\\pdfplumber\\page.py:666\u001b[0m, in \u001b[0;36mtest_proposed_bbox\u001b[1;34m(bbox, parent_bbox)\u001b[0m\n\u001b[0;32m    665\u001b[0m \u001b[38;5;28;01mdef\u001b[39;00m \u001b[38;5;21mtest_proposed_bbox\u001b[39m(bbox: T_bbox, parent_bbox: T_bbox) \u001b[38;5;241m-\u001b[39m\u001b[38;5;241m>\u001b[39m \u001b[38;5;28;01mNone\u001b[39;00m:\n\u001b[1;32m--> 666\u001b[0m     bbox_area \u001b[38;5;241m=\u001b[39m \u001b[43mutils\u001b[49m\u001b[38;5;241;43m.\u001b[39;49m\u001b[43mcalculate_area\u001b[49m\u001b[43m(\u001b[49m\u001b[43mbbox\u001b[49m\u001b[43m)\u001b[49m\n\u001b[0;32m    667\u001b[0m     \u001b[38;5;28;01mif\u001b[39;00m bbox_area \u001b[38;5;241m==\u001b[39m \u001b[38;5;241m0\u001b[39m:\n\u001b[0;32m    668\u001b[0m         \u001b[38;5;28;01mraise\u001b[39;00m \u001b[38;5;167;01mValueError\u001b[39;00m(\u001b[38;5;124mf\u001b[39m\u001b[38;5;124m\"\u001b[39m\u001b[38;5;124mBounding box \u001b[39m\u001b[38;5;132;01m{\u001b[39;00mbbox\u001b[38;5;132;01m}\u001b[39;00m\u001b[38;5;124m has an area of zero.\u001b[39m\u001b[38;5;124m\"\u001b[39m)\n",
      "File \u001b[1;32m~\\anaconda3\\envs\\practice_env\\Lib\\site-packages\\pdfplumber\\utils\\geometry.py:72\u001b[0m, in \u001b[0;36mcalculate_area\u001b[1;34m(bbox)\u001b[0m\n\u001b[0;32m     70\u001b[0m left, top, right, bottom \u001b[38;5;241m=\u001b[39m bbox\n\u001b[0;32m     71\u001b[0m \u001b[38;5;28;01mif\u001b[39;00m left \u001b[38;5;241m>\u001b[39m right \u001b[38;5;129;01mor\u001b[39;00m top \u001b[38;5;241m>\u001b[39m bottom:\n\u001b[1;32m---> 72\u001b[0m     \u001b[38;5;28;01mraise\u001b[39;00m \u001b[38;5;167;01mValueError\u001b[39;00m(\u001b[38;5;124mf\u001b[39m\u001b[38;5;124m\"\u001b[39m\u001b[38;5;132;01m{\u001b[39;00mbbox\u001b[38;5;132;01m}\u001b[39;00m\u001b[38;5;124m has a negative width or height.\u001b[39m\u001b[38;5;124m\"\u001b[39m)\n\u001b[0;32m     73\u001b[0m \u001b[38;5;28;01mreturn\u001b[39;00m (right \u001b[38;5;241m-\u001b[39m left) \u001b[38;5;241m*\u001b[39m (bottom \u001b[38;5;241m-\u001b[39m top)\n",
      "\u001b[1;31mValueError\u001b[0m: (236, 723.768, 302, 712) has a negative width or height."
     ]
    }
   ],
   "source": [
    "for page in pages:\n",
    "    print(page.width, page.height)\n",
    "    page.within_bbox((236, 723.768, 302, 712))"
   ]
  },
  {
   "cell_type": "code",
   "execution_count": 71,
   "id": "06d7eaab-937d-4356-b31a-373f1737773d",
   "metadata": {
    "scrolled": true
   },
   "outputs": [
    {
     "name": "stdout",
     "output_type": "stream",
     "text": [
      "제 1 장\n",
      "제 1 장\n",
      "제 1 장\n",
      "제 1 장\n",
      "제 1 장\n",
      "제 2 장\n",
      "제 2 장\n",
      "제 2 장\n",
      "제 2 장\n",
      "제 2 장\n",
      "제 2 장\n",
      "제 2 장\n",
      "제 2 장\n",
      "제 2 장\n",
      "제 2 장\n",
      "제 2 장\n",
      "제 2 장\n",
      "제 2 장\n",
      "제 2 장\n",
      "제 2 장\n",
      "제 2 장\n",
      "제 2 장\n",
      "제 2 장\n",
      "제 2 장\n",
      "제 2 장\n",
      "제 2 장\n",
      "제 2 장\n",
      "제 2 장\n",
      "제 2 장\n",
      "제 2 장\n",
      "제 2 장\n",
      "제 2 장\n",
      "제 2 장\n",
      "제 2 장\n",
      "제 2 장\n",
      "제 2 장\n",
      "제 2 장\n",
      "제 2 장\n",
      "제 2 장\n",
      "제 2 장\n",
      "제 2 장\n",
      "제 2 장\n",
      "제 2 장\n",
      "제 2 장\n",
      "제 2 장\n",
      "제 2 장\n",
      "제 2 장\n",
      "제 2 장\n",
      "제 2 장\n",
      "제 2 장\n",
      "제 2 장\n",
      "제 2 장\n",
      "제 2 장\n",
      "제 2 장\n",
      "제 2 장\n",
      "제 2 장\n",
      "제 2 장\n",
      "제 2 장\n",
      "제 2 장\n",
      "제 2 장\n",
      "제 2 장\n",
      "제 2 장\n",
      "제 2 장\n",
      "제 2 장\n",
      "제 2 장\n",
      "제 2 장\n",
      "제 2 장\n",
      "제 2 장\n",
      "제 2 장\n",
      "제 2 장\n",
      "제 2 장\n",
      "제 3 장\n",
      "제 3 장\n",
      "제 3 장\n",
      "제 3 장\n",
      "제 3 장\n",
      "제 3 장\n",
      "제 3 장\n",
      "제 3 장\n",
      "제 3 장\n",
      "제 3 장\n",
      "제 3 장\n",
      "제 3 장\n",
      "제 3 장\n",
      "제 3 장\n",
      "제 3 장\n",
      "제 3 장\n",
      "제 3 장\n",
      "제 3 장\n",
      "제 3 장\n",
      "제 3 장\n",
      "제 4 장\n",
      "제 4 장\n",
      "제 4 장\n",
      "제 4 장\n",
      "제 4 장\n",
      "제 4 장\n",
      "제 4 장\n",
      "제 4 장\n",
      "제 4 장\n",
      "제 4 장\n",
      "제 4 장\n",
      "제 4 장\n",
      "제 4 장\n",
      "제 4 장\n",
      "제 4 장\n",
      "제 4 장\n",
      "제 4 장\n",
      "제 4 장\n",
      "제 4 장\n",
      "제 4 장\n",
      "제 4 장\n",
      "제 4 장\n",
      "제 4 장\n",
      "제 4 장\n",
      "제 4 장\n",
      "제 4 장\n",
      "제 4 장\n",
      "제 4 장\n",
      "제 4 장\n",
      "제 4 장\n",
      "제 4 장\n",
      "제 4 장\n",
      "제 4 장\n",
      "제 4 장\n",
      "제 4 장\n",
      "제 4 장\n",
      "제 4 장\n",
      "제 4 장\n",
      "제 4 장\n",
      "제 4 장\n",
      "제 4 장\n",
      "제 4 장\n",
      "제 4 장\n",
      "제 4 장\n",
      "제 4 장\n",
      "제 4 장\n",
      "제 4 장\n",
      "제 4 장\n",
      "제 4 장\n",
      "제 4 장\n",
      "제 4 장\n",
      "제 4 장\n",
      "제 4 장\n",
      "제 4 장\n",
      "제 4 장\n",
      "제 4 장\n",
      "제 4 장\n",
      "제 4 장\n",
      "제 5 장\n",
      "제 5 장\n",
      "제 5 장\n",
      "제 5 장\n",
      "제 5 장\n",
      "제 5 장\n",
      "제 5 장\n",
      "제 5 장\n",
      "제 6 장\n",
      "제 6 장\n",
      "제 6 장\n",
      "제 6 장\n",
      "제 6 장\n",
      "제 6 장\n",
      "제 6 장\n",
      "부 록\n",
      "[ 참고문헌 ]\n",
      "6. The Source of Contemporary Landscape Design /\n",
      "김진아, 「뉴욕의 (재)개발 사업과 공공미술: Battery Park City를\n",
      "유정아, 『1970-90년대 뉴욕의 공공미술: 장소와 관람자의 인식변화를\n",
      "행정중심복합도시 야간경관계획 및 조명기준 연구, 2007\n",
      "[ 인터넷사이트 ]\n",
      "▪참 여 진\n",
      "▪참 여 연 구 진\n"
     ]
    }
   ],
   "source": [
    "for page in pages:\n",
    "    lines = page.extract_text_lines()\n",
    "    for line in lines:\n",
    "        print(line['text'])\n",
    "        break"
   ]
  },
  {
   "cell_type": "code",
   "execution_count": 67,
   "id": "47d16bc1-47c8-4661-8859-db56ad67c78a",
   "metadata": {},
   "outputs": [],
   "source": [
    "def find_text_size(line):\n",
    "    text_size = -float('inf')\n",
    "    chars = line['chars']\n",
    "    for char in chars:\n",
    "        text_size = max(round(char['size']), text_size)\n",
    "    return text_size"
   ]
  },
  {
   "cell_type": "code",
   "execution_count": 137,
   "id": "39ea3297-e719-4fe4-8a5f-85639c8c493a",
   "metadata": {},
   "outputs": [],
   "source": [
    "header_lst = []\n",
    "for page in pages:\n",
    "    lines = page.extract_text_lines()\n",
    "    lst = []\n",
    "    for idx, line in enumerate(lines):\n",
    "        if idx < 4:\n",
    "            text = line['text']\n",
    "            size = find_text_size(line)\n",
    "            bottom = round(line['bottom'])       \n",
    "            lst.append((text, size, bottom))      \n",
    "    header_lst.append(tuple(lst))"
   ]
  },
  {
   "cell_type": "code",
   "execution_count": 173,
   "id": "bf712315-c421-4bf3-8356-36459b764489",
   "metadata": {},
   "outputs": [],
   "source": [
    "max_rows = 0\n",
    "max_count = None\n",
    "for i in range(1, 5):\n",
    "    count = Counter(item[:i]for item in header_lst)\n",
    "    mmax = max(count.values())\n",
    "    if max_rows <= mmax:\n",
    "        max_rows = mmax\n",
    "        max_count = count\n",
    "    else:\n",
    "        break"
   ]
  },
  {
   "cell_type": "code",
   "execution_count": 176,
   "id": "ee7be274-4890-444e-9f62-1808a0fa2670",
   "metadata": {},
   "outputs": [],
   "source": [
    "header_candis = [key for key, val in max_count.items() if val == max_rows]"
   ]
  },
  {
   "cell_type": "code",
   "execution_count": 178,
   "id": "1a05d401-ffac-4bcd-ba74-69c1b4561b01",
   "metadata": {},
   "outputs": [],
   "source": [
    "header_height = 0\n",
    "for header_candi in header_candis:\n",
    "    for col in header_candi:\n",
    "        header_height = max(header_height, col[2])"
   ]
  },
  {
   "cell_type": "code",
   "execution_count": null,
   "id": "985c41c5-ae23-41d7-a908-df96d8e36eda",
   "metadata": {},
   "outputs": [],
   "source": []
  },
  {
   "cell_type": "code",
   "execution_count": null,
   "id": "ec6b458e-a7c8-4bbb-8132-e7267053d9cb",
   "metadata": {},
   "outputs": [],
   "source": []
  },
  {
   "cell_type": "code",
   "execution_count": 177,
   "id": "117f87e0-7c8a-4899-9c8b-0ceeda0a962b",
   "metadata": {},
   "outputs": [
    {
     "data": {
      "text/plain": [
       "[(('제 2 장', 9, 69), ('선행계획 고찰을 통한 공공디자인 방향설정', 9, 83)),\n",
       " (('제 2 장', 9, 68), ('선행계획 고찰을 통한 공공디자인 방향설정', 9, 82))]"
      ]
     },
     "execution_count": 177,
     "metadata": {},
     "output_type": "execute_result"
    }
   ],
   "source": [
    "for header_candis"
   ]
  },
  {
   "cell_type": "code",
   "execution_count": null,
   "id": "e18f39ad-591e-470d-9058-4ea06d3c4800",
   "metadata": {},
   "outputs": [],
   "source": []
  },
  {
   "cell_type": "code",
   "execution_count": null,
   "id": "178995a3-4707-43a9-b57b-1707748c39be",
   "metadata": {},
   "outputs": [],
   "source": []
  },
  {
   "cell_type": "code",
   "execution_count": 38,
   "id": "9a350776-9657-4923-ad3b-f80065f421e5",
   "metadata": {},
   "outputs": [],
   "source": [
    "a = 3"
   ]
  },
  {
   "cell_type": "code",
   "execution_count": 39,
   "id": "4c20b05f-23fc-4661-9e86-f93ffd3f8151",
   "metadata": {},
   "outputs": [
    {
     "data": {
      "text/plain": [
       "0"
      ]
     },
     "execution_count": 39,
     "metadata": {},
     "output_type": "execute_result"
    }
   ],
   "source": [
    "a//4"
   ]
  },
  {
   "cell_type": "code",
   "execution_count": 41,
   "id": "74a99f20-bc91-4ded-9238-6e6b2b0a5e86",
   "metadata": {},
   "outputs": [
    {
     "data": {
      "text/plain": [
       "True"
      ]
     },
     "execution_count": 41,
     "metadata": {},
     "output_type": "execute_result"
    }
   ],
   "source": [
    "3/4 > 0.4"
   ]
  },
  {
   "cell_type": "code",
   "execution_count": 147,
   "id": "6e3ef349-5fb7-4c45-8072-77a0918784cd",
   "metadata": {},
   "outputs": [],
   "source": [
    "import re"
   ]
  },
  {
   "cell_type": "code",
   "execution_count": 148,
   "id": "f11f261f-ca3c-4371-a8b5-cf556af0391c",
   "metadata": {},
   "outputs": [],
   "source": [
    "header_texts = defaultdict(int)\n",
    "footer_texts = defaultdict(int)\n",
    "text_size = defaultdict(int)\n"
   ]
  },
  {
   "cell_type": "code",
   "execution_count": null,
   "id": "ad3cd4a6-2736-4b84-aa91-78ae5305b558",
   "metadata": {},
   "outputs": [],
   "source": []
  }
 ],
 "metadata": {
  "kernelspec": {
   "display_name": "practice_env",
   "language": "python",
   "name": "practice_env"
  },
  "language_info": {
   "codemirror_mode": {
    "name": "ipython",
    "version": 3
   },
   "file_extension": ".py",
   "mimetype": "text/x-python",
   "name": "python",
   "nbconvert_exporter": "python",
   "pygments_lexer": "ipython3",
   "version": "3.12.7"
  }
 },
 "nbformat": 4,
 "nbformat_minor": 5
}
